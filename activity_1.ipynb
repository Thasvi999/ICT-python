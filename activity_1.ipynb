{
  "nbformat": 4,
  "nbformat_minor": 0,
  "metadata": {
    "colab": {
      "provenance": []
    },
    "kernelspec": {
      "name": "python3",
      "display_name": "Python 3"
    },
    "language_info": {
      "name": "python"
    }
  },
  "cells": [
    {
      "cell_type": "code",
      "execution_count": null,
      "metadata": {
        "colab": {
          "base_uri": "https://localhost:8080/"
        },
        "id": "GnYvrif5BfEY",
        "outputId": "f5069c5c-fbf6-49fe-dff4-8f2517d5840c"
      },
      "outputs": [
        {
          "output_type": "stream",
          "name": "stdout",
          "text": [
            "Hello\n"
          ]
        }
      ],
      "source": [
        "sample_string='Hello World'\n",
        "Sub_string=sample_string[:5]\n",
        "print(Sub_string)\n"
      ]
    },
    {
      "cell_type": "code",
      "source": [
        "sample_string='Python is fun'\n",
        "Sub_string=sample_string[7:-4]\n",
        "print(Sub_string)"
      ],
      "metadata": {
        "colab": {
          "base_uri": "https://localhost:8080/"
        },
        "id": "F8LMaXn-Ezoe",
        "outputId": "fbc3c87d-ec7d-4906-f3fa-2147ba3b555c"
      },
      "execution_count": null,
      "outputs": [
        {
          "output_type": "stream",
          "name": "stdout",
          "text": [
            "is\n"
          ]
        }
      ]
    },
    {
      "cell_type": "code",
      "source": [
        "sample_string='Programming'\n",
        "Sub_string=sample_string[3:-4]\n",
        "print(Sub_string)"
      ],
      "metadata": {
        "colab": {
          "base_uri": "https://localhost:8080/"
        },
        "id": "ovH2NKnrFufA",
        "outputId": "909bb6cd-fe02-4387-b3d5-87b4cc75cd4f"
      },
      "execution_count": null,
      "outputs": [
        {
          "output_type": "stream",
          "name": "stdout",
          "text": [
            "gram\n"
          ]
        }
      ]
    },
    {
      "cell_type": "code",
      "source": [
        "original_string = \"abcdefgh\"\n",
        "even_string = original_string[::2]\n",
        "print(even_string)\n"
      ],
      "metadata": {
        "colab": {
          "base_uri": "https://localhost:8080/"
        },
        "id": "1Zweq_shGZD1",
        "outputId": "cebde702-86f6-4b31-9a9c-12b6460ee0bc"
      },
      "execution_count": null,
      "outputs": [
        {
          "output_type": "stream",
          "name": "stdout",
          "text": [
            "aceg\n"
          ]
        }
      ]
    },
    {
      "cell_type": "code",
      "source": [
        "original_string=('abcdefg')\n",
        "sub_string=original_string[-3:]\n",
        "print(sub_string)"
      ],
      "metadata": {
        "colab": {
          "base_uri": "https://localhost:8080/"
        },
        "id": "w5fm0uQpHIeI",
        "outputId": "acd0b040-7fe1-42ba-c527-f2fa479c7e2b"
      },
      "execution_count": null,
      "outputs": [
        {
          "output_type": "stream",
          "name": "stdout",
          "text": [
            "efg\n"
          ]
        }
      ]
    },
    {
      "cell_type": "code",
      "source": [
        "original_string=('Data Science')\n",
        "sub_string=original_string[-3:]\n",
        "print(sub_string)"
      ],
      "metadata": {
        "colab": {
          "base_uri": "https://localhost:8080/"
        },
        "id": "GyniFZ9OIXKH",
        "outputId": "335a95f4-2500-4d96-b632-54a94bd3a61a"
      },
      "execution_count": null,
      "outputs": [
        {
          "output_type": "stream",
          "name": "stdout",
          "text": [
            "nce\n"
          ]
        }
      ]
    },
    {
      "cell_type": "code",
      "source": [
        "original_string=('Data Science')\n",
        "sub_string=original_string[-3:]\n",
        "print(sub_string)"
      ],
      "metadata": {
        "colab": {
          "base_uri": "https://localhost:8080/"
        },
        "id": "AhjLHAUaJao9",
        "outputId": "5919bdda-4328-4ead-c9cb-e533636faac9"
      },
      "execution_count": null,
      "outputs": [
        {
          "output_type": "stream",
          "name": "stdout",
          "text": [
            "nce\n"
          ]
        }
      ]
    },
    {
      "cell_type": "code",
      "source": [
        "original_string=('abcdefghij')\n",
        "new_string=original_string[::2]\n",
        "print(new_string)"
      ],
      "metadata": {
        "colab": {
          "base_uri": "https://localhost:8080/"
        },
        "id": "S1yERivpr_gE",
        "outputId": "af9af42b-fc44-42ba-91c4-a558b5e9fb42"
      },
      "execution_count": null,
      "outputs": [
        {
          "output_type": "stream",
          "name": "stdout",
          "text": [
            "acegi\n"
          ]
        }
      ]
    },
    {
      "cell_type": "code",
      "source": [
        "original_number=('123456789')\n",
        "new_number=original_number[::2]\n",
        "print(new_number)"
      ],
      "metadata": {
        "colab": {
          "base_uri": "https://localhost:8080/"
        },
        "id": "USF56csnsXDq",
        "outputId": "224cb48f-fca5-4ce1-885f-1352d0d838ef"
      },
      "execution_count": null,
      "outputs": [
        {
          "output_type": "stream",
          "name": "stdout",
          "text": [
            "13579\n"
          ]
        }
      ]
    },
    {
      "cell_type": "code",
      "source": [
        "Given_string=('Hello')\n",
        "rev_string=Given_string[::-1]\n",
        "print(rev_string)"
      ],
      "metadata": {
        "colab": {
          "base_uri": "https://localhost:8080/"
        },
        "id": "Lw2wf4m0tAin",
        "outputId": "251dc2db-44dd-4ad4-e960-076951f08295"
      },
      "execution_count": null,
      "outputs": [
        {
          "output_type": "stream",
          "name": "stdout",
          "text": [
            "olleH\n"
          ]
        }
      ]
    },
    {
      "cell_type": "code",
      "source": [
        "org_string=('abcdefghijk')\n",
        "req_string=org_string[::2]\n",
        "print(req_string)"
      ],
      "metadata": {
        "colab": {
          "base_uri": "https://localhost:8080/"
        },
        "id": "idPo4RQxt128",
        "outputId": "6761251c-fbad-462c-f91f-ad02109ceb5d"
      },
      "execution_count": null,
      "outputs": [
        {
          "output_type": "stream",
          "name": "stdout",
          "text": [
            "acegik\n"
          ]
        }
      ]
    }
  ]
}